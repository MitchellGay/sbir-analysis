{
 "cells": [
  {
   "cell_type": "code",
   "execution_count": 7,
   "metadata": {},
   "outputs": [],
   "source": [
    "import requests\n",
    "import pandas as pd\n",
    "import json\n",
    "\n",
    "url = \"https://api.www.sbir.gov/public/api/awards\"\n",
    "\n",
    "response = requests.get(url)\n",
    "data = response.json()\n",
    "\n",
    "df = pd.DataFrame(data)"
   ]
  },
  {
   "cell_type": "code",
   "execution_count": 8,
   "metadata": {},
   "outputs": [],
   "source": [
    "columns = [\"firm\", \"award_title\", \"agency\", \"award_year\", \"award_amount\", \"socially_economically_disadvantaged\"]\n",
    "df = df[columns]"
   ]
  },
  {
   "cell_type": "code",
   "execution_count": 9,
   "metadata": {},
   "outputs": [
    {
     "name": "stdout",
     "output_type": "stream",
     "text": [
      "Saved 10 awards to 'sbir_sample_awards.csv'\n",
      "                                            firm  \\\n",
      "0                              SOL ROBOTICS, INC   \n",
      "1             Therapeutic Bandage Products, Inc.   \n",
      "2                       LuxNour Technologies Inc   \n",
      "3  Coherent Photonics, Limited Liability Company   \n",
      "4                                JULIA JEAN, LLC   \n",
      "\n",
      "                                         award_title agency  award_year  \\\n",
      "0  SBIR Phase I: A Robotic Arm Architecture for A...    NSF        2025   \n",
      "1  SBIR Phase I: Microneedle Bandage for Diabetic...    NSF        2025   \n",
      "2  SBIR Phase I: Efficient Transfer Technology fo...    NSF        2025   \n",
      "3  SBIR Phase I: Metasurface Optical Waveguides f...    NSF        2025   \n",
      "4  SBIR Phase I: Novel Cold Cathode E-Beam Source...    NSF        2025   \n",
      "\n",
      "  award_amount socially_economically_disadvantaged  \n",
      "0  304952.0000                                   N  \n",
      "1  305000.0000                                   N  \n",
      "2  304507.0000                                   N  \n",
      "3  305000.0000                                   N  \n",
      "4  305000.0000                                   N  \n"
     ]
    }
   ],
   "source": [
    "df.to_csv(\"sbir_sample_awards.csv\", index=False)\n",
    "\n",
    "print(\"Saved 10 awards to 'sbir_sample_awards.csv'\")\n",
    "print(df.head())"
   ]
  }
 ],
 "metadata": {
  "kernelspec": {
   "display_name": "env",
   "language": "python",
   "name": "python3"
  },
  "language_info": {
   "codemirror_mode": {
    "name": "ipython",
    "version": 3
   },
   "file_extension": ".py",
   "mimetype": "text/x-python",
   "name": "python",
   "nbconvert_exporter": "python",
   "pygments_lexer": "ipython3",
   "version": "3.12.4"
  }
 },
 "nbformat": 4,
 "nbformat_minor": 2
}
